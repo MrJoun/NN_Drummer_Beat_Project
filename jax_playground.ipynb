{
 "cells": [
  {
   "cell_type": "code",
   "execution_count": null,
   "metadata": {},
   "outputs": [],
   "source": [
    "import jax\n",
    "import jax.numpy as np\n",
    "import math\n",
    "import numpy as np\n",
    "import tensorflow as tf\n",
    "import time\n",
    "import matplotlib.pyplot as plt"
   ]
  },
  {
   "cell_type": "code",
   "execution_count": null,
   "metadata": {},
   "outputs": [],
   "source": [
    "# Creating a key for reproducibility\n",
    "key = jax.random.PRNGKey(1)"
   ]
  },
  {
   "cell_type": "markdown",
   "metadata": {},
   "source": [
    "<https://www.tensorflow.org/datasets/api_docs/python/tfds/load>"
   ]
  },
  {
   "cell_type": "code",
   "execution_count": null,
   "metadata": {},
   "outputs": [],
   "source": [
    "# Import data\n",
    "# 1150 files\n",
    "import tensorflow_datasets as tfds\n",
    "\n",
    "# tfds works in both Eager and Graph modes\n",
    "# tf.enable_eager_execution()\n",
    "\n",
    "# Load the full GMD with MIDI only (no audio) as a tf.data.Dataset\n",
    "dataset = tfds.load(\n",
    "    name=\"groove/full-midionly\",\n",
    "    split=tfds.Split.TRAIN,\n",
    "    try_gcs=True)"
   ]
  },
  {
   "cell_type": "code",
   "execution_count": null,
   "metadata": {},
   "outputs": [],
   "source": [
    "# Build your input pipeline\n",
    "dataset = dataset.shuffle(1024).batch(32).prefetch(\n",
    "    tf.data.experimental.AUTOTUNE)\n",
    "for features in dataset.take(1):\n",
    "  # Access the features you are interested in\n",
    "  midi, genre = features[\"midi\"], features[\"style\"][\"primary\"]"
   ]
  },
  {
   "cell_type": "code",
   "execution_count": null,
   "metadata": {},
   "outputs": [],
   "source": [
    "import tensorflow_datasets as tfds\n",
    "\n",
    "# Construct a tf.data.Dataset\n",
    "ds = tfds.load('mnist', split='train')"
   ]
  },
  {
   "cell_type": "code",
   "execution_count": 6,
   "metadata": {},
   "outputs": [],
   "source": [
    "import numpy as np\n",
    "# import tensorflow as tf\n",
    "from pathlib import Path\n",
    "from mido import MidiFile\n",
    "import mido\n",
    "\n",
    "seed = 42\n",
    "# tf.random.set_seed(seed)\n",
    "np.random.seed(seed)\n",
    "\n",
    "class DataPoint:\n",
    "    def __init__(self,\n",
    "                 midi_data,\n",
    "                 features,\n",
    "                 audio_file_path,\n",
    "                 midi_file_path,\n",
    "                 purpose) -> None:\n",
    "        self.midi_data = midi_data\n",
    "        self.features = features\n",
    "        self.audio_file_path = audio_file_path\n",
    "        self.midi_file_path = midi_file_path\n",
    "        self.purpose = purpose\n",
    "\n",
    "\n",
    "\n",
    "\n",
    "feature_names = [\"style\", \"bpm\", \"beat_type\", \"time_signature\", \"duration\"]\n",
    "feature_to_column_idx = {\n",
    "    \"session\" : 0,\n",
    "    \"drummer\" : 1,\n",
    "    \"id\" : 2,\n",
    "    \"style\" : 3,\n",
    "    \"bpm\" : 4,\n",
    "    \"beat_type\" : 5,\n",
    "    \"time_signature\" : 6,\n",
    "    \"midi_filename\" : 7,\n",
    "    \"audio_filename\" : 8,\n",
    "    \"duration\" : 9,\n",
    "    \"split\" : 10\n",
    "}\n",
    "\n",
    "def play_audio(midi_data: MidiFile, duration: float=None) -> None:\n",
    "        \n",
    "    # Create output port for playing samples\n",
    "    with mido.open_output(autoreset=True) as outport: \n",
    "        if isinstance(duration, (float, int)):\n",
    "            for msg in midi_data.play():\n",
    "                if duration <= 0: break\n",
    "                outport.send(msg)\n",
    "                duration -= msg.time\n",
    "        else:\n",
    "            for msg in midi_data.play():\n",
    "                outport.send(msg)\n",
    "\n",
    "    if not outport.closed:\n",
    "        print(\"Closing port...\")\n",
    "        outport.close()\n",
    "\n",
    "def get_tempo(mid):\n",
    "    for track in mid.tracks:\n",
    "        for msg in track:\n",
    "            if msg.type == 'set_tempo':\n",
    "                return msg.tempo\n",
    "    return False  # Default tempo if not found\n"
   ]
  },
  {
   "cell_type": "markdown",
   "metadata": {},
   "source": [
    "## Read Data"
   ]
  },
  {
   "cell_type": "code",
   "execution_count": 7,
   "metadata": {},
   "outputs": [
    {
     "name": "stdout",
     "output_type": "stream",
     "text": [
      "1 0 0\n",
      "1 0 1\n",
      "1 0 2\n",
      "1 0 3\n",
      "2 0 3\n",
      "3 0 3\n",
      "4 0 3\n",
      "5 0 3\n",
      "5 0 4\n",
      "5 0 5\n",
      "6 0 5\n",
      "7 0 5\n",
      "8 0 5\n",
      "9 0 5\n",
      "10 0 5\n",
      "11 0 5\n",
      "12 0 5\n",
      "13 0 5\n",
      "14 0 5\n",
      "14 1 5\n",
      "15 1 5\n",
      "16 1 5\n",
      "17 1 5\n",
      "17 2 5\n",
      "18 2 5\n",
      "19 2 5\n",
      "19 3 5\n",
      "19 3 6\n",
      "20 3 6\n",
      "21 3 6\n",
      "22 3 6\n",
      "23 3 6\n",
      "24 3 6\n",
      "25 3 6\n",
      "26 3 6\n",
      "27 3 6\n",
      "28 3 6\n",
      "29 3 6\n",
      "29 4 6\n",
      "30 4 6\n",
      "31 4 6\n",
      "32 4 6\n",
      "33 4 6\n",
      "34 4 6\n",
      "34 5 6\n",
      "35 5 6\n",
      "36 5 6\n",
      "37 5 6\n",
      "38 5 6\n",
      "38 5 7\n",
      "39 5 7\n",
      "39 5 8\n",
      "40 5 8\n",
      "40 5 9\n",
      "41 5 9\n",
      "41 6 9\n",
      "42 6 9\n",
      "43 6 9\n",
      "44 6 9\n",
      "45 6 9\n",
      "46 6 9\n",
      "47 6 9\n",
      "48 6 9\n",
      "49 6 9\n",
      "50 6 9\n",
      "51 6 9\n",
      "51 7 9\n",
      "52 7 9\n",
      "53 7 9\n",
      "54 7 9\n",
      "55 7 9\n",
      "56 7 9\n",
      "57 7 9\n",
      "58 7 9\n",
      "59 7 9\n",
      "60 7 9\n",
      "61 7 9\n",
      "62 7 9\n",
      "63 7 9\n",
      "64 7 9\n",
      "65 7 9\n",
      "66 7 9\n",
      "67 7 9\n",
      "68 7 9\n",
      "69 7 9\n",
      "69\n",
      "7\n",
      "9\n"
     ]
    }
   ],
   "source": [
    "\n",
    "\n",
    "\n",
    "# Initiate data structures\n",
    "X_train = []\n",
    "X_test = []\n",
    "X_validation = []\n",
    "# X_train = [0] * 897\n",
    "# X_test = [0] * 129\n",
    "# X_validation = [0] * 124\n",
    "# y_train = np.zeros(())\n",
    "# y_test = np.zeros(())\n",
    "\n",
    "# Define filename and its path\n",
    "data_filename = \"info.csv\"\n",
    "data_folder_path = Path().cwd() / \"data\"\n",
    "data_path = data_folder_path / data_filename\n",
    "\n",
    "# bpm_stats = {}\n",
    "\n",
    "# Open file with data information\n",
    "with data_path.open() as file:\n",
    "    columns = file.readline()\n",
    "    train_idx = 0\n",
    "    test_idx = 0\n",
    "    validation_idx = 0\n",
    "    for i, line in enumerate(file):\n",
    "        # Strip line of new line and split into list\n",
    "        line = line.strip().split(\",\")\n",
    "\n",
    "        bpm = line[4]\n",
    "        time_signature = line[6]\n",
    "        # if bpm in bpm_stats.keys():\n",
    "        #     bpm_stats[bpm] += 1\n",
    "        # else:\n",
    "        #     bpm_stats[bpm] = 1\n",
    "        if bpm != \"120\" or time_signature != \"4-4\":\n",
    "            continue\n",
    "\n",
    "        # Check\n",
    "        # print(line)\n",
    "\n",
    "        # Attach absolute path to midi & audio files\n",
    "        midi_data_path = data_folder_path / line[7]\n",
    "        audio_data_path = data_folder_path / line[8]\n",
    "\n",
    "        # Create custom data point with all info\n",
    "        midi_data = MidiFile(midi_data_path)\n",
    "\n",
    "\n",
    "        features = {i: line[feature_to_column_idx[i]] for i in feature_names}\n",
    "        data_point = DataPoint(\n",
    "            midi_data=midi_data,\n",
    "            audio_file_path=audio_data_path,\n",
    "            midi_file_path=midi_data_path,\n",
    "            features=features,\n",
    "            purpose=line[feature_to_column_idx[\"split\"]]\n",
    "        )\n",
    "\n",
    "        # Play the sample\n",
    "        # play_audio(midi_data, 3)\n",
    "\n",
    "        if data_point.purpose == \"train\":\n",
    "            # X_train[train_idx] = data_point\n",
    "            # train_idx += 1\n",
    "            X_train.append(data_point)\n",
    "        elif data_point.purpose == \"test\":\n",
    "            # X_test[test_idx] = data_point\n",
    "            # test_idx += 1\n",
    "            X_test.append(data_point)\n",
    "        elif data_point.purpose == \"validation\":\n",
    "            # X_validation[validation_idx] = data_point\n",
    "            # validation_idx += 1\n",
    "            X_validation.append(data_point)\n",
    "\n",
    "        print(len(X_train), len(X_test), len(X_validation))\n",
    "\n",
    "        # print(line.strip().split(\",\"))\n",
    "        # print(\"Next sample\\n\")\n",
    "        # if i == 10: print(\"Breaking\"); break\n",
    "\n",
    "print(len(X_train))\n",
    "print(len(X_test))\n",
    "print(len(X_validation))"
   ]
  },
  {
   "cell_type": "code",
   "execution_count": 4,
   "metadata": {},
   "outputs": [
    {
     "data": {
      "text/plain": [
       "{'138': 8,\n",
       " '102': 11,\n",
       " '105': 48,\n",
       " '86': 12,\n",
       " '80': 12,\n",
       " '84': 24,\n",
       " '87': 5,\n",
       " '65': 4,\n",
       " '116': 43,\n",
       " '94': 6,\n",
       " '120': 86,\n",
       " '95': 82,\n",
       " '125': 48,\n",
       " '78': 24,\n",
       " '64': 1,\n",
       " '140': 51,\n",
       " '130': 46,\n",
       " '93': 42,\n",
       " '180': 3,\n",
       " '290': 1,\n",
       " '90': 17,\n",
       " '170': 2,\n",
       " '157': 1,\n",
       " '114': 24,\n",
       " '92': 43,\n",
       " '190': 1,\n",
       " '110': 35,\n",
       " '122': 31,\n",
       " '50': 1,\n",
       " '115': 20,\n",
       " '118': 17,\n",
       " '128': 32,\n",
       " '200': 2,\n",
       " '144': 28,\n",
       " '88': 4,\n",
       " '176': 1,\n",
       " '96': 22,\n",
       " '117': 4,\n",
       " '108': 6,\n",
       " '185': 1,\n",
       " '182': 1,\n",
       " '135': 11,\n",
       " '124': 4,\n",
       " '215': 7,\n",
       " '100': 70,\n",
       " '158': 2,\n",
       " '152': 1,\n",
       " '184': 1,\n",
       " '134': 2,\n",
       " '112': 35,\n",
       " '127': 3,\n",
       " '136': 1,\n",
       " '72': 1,\n",
       " '126': 4,\n",
       " '89': 3,\n",
       " '162': 1,\n",
       " '101': 3,\n",
       " '133': 1,\n",
       " '141': 1,\n",
       " '99': 1,\n",
       " '104': 9,\n",
       " '70': 19,\n",
       " '60': 11,\n",
       " '142': 6,\n",
       " '132': 4,\n",
       " '75': 19,\n",
       " '148': 10,\n",
       " '145': 8,\n",
       " '83': 13,\n",
       " '98': 11,\n",
       " '67': 15,\n",
       " '63': 8,\n",
       " '82': 2,\n",
       " '81': 2,\n",
       " '103': 2,\n",
       " '85': 3,\n",
       " '137': 2,\n",
       " '106': 2,\n",
       " '91': 2}"
      ]
     },
     "execution_count": 4,
     "metadata": {},
     "output_type": "execute_result"
    }
   ],
   "source": [
    "bpm_stats"
   ]
  },
  {
   "cell_type": "code",
   "execution_count": 3,
   "metadata": {},
   "outputs": [
    {
     "name": "stdout",
     "output_type": "stream",
     "text": [
      "38\n",
      "3\n",
      "7\n"
     ]
    }
   ],
   "source": [
    "print(len(X_train) - X_train.count(0))\n",
    "print(len(X_test) - X_test.count(0))\n",
    "print(len(X_validation) - X_validation.count(0))"
   ]
  },
  {
   "cell_type": "markdown",
   "metadata": {},
   "source": [
    "X_train = 897\n",
    "X_test = 129\n",
    "X_validation = 124"
   ]
  },
  {
   "cell_type": "code",
   "execution_count": null,
   "metadata": {},
   "outputs": [],
   "source": [
    "validation_idx"
   ]
  },
  {
   "cell_type": "code",
   "execution_count": null,
   "metadata": {},
   "outputs": [],
   "source": [
    "# print(X_train, X_test, X_validation, sep=\"\\n\")\n",
    "# print(X_test[0])\n",
    "\n",
    "for i in X_train[:1]:\n",
    "    print(i.purpose, i.features, i.midi_file_path, i.audio_file_path, sep=\"\\n\")"
   ]
  },
  {
   "cell_type": "code",
   "execution_count": null,
   "metadata": {},
   "outputs": [],
   "source": [
    "sample = X_train[0].midi_data\n",
    "for i, track in enumerate(sample.tracks):\n",
    "    print('Track {}: {}'.format(i, track.name))\n",
    "    for msg in track:\n",
    "        print(msg)"
   ]
  },
  {
   "cell_type": "code",
   "execution_count": null,
   "metadata": {},
   "outputs": [],
   "source": [
    "count = 0\n",
    "print(len(X_validation))\n",
    "for x in X_validation:\n",
    "    count += 1 if x.midi_data.type == 0 else 0\n",
    "\n",
    "print(count)"
   ]
  },
  {
   "cell_type": "code",
   "execution_count": null,
   "metadata": {},
   "outputs": [],
   "source": [
    "sample = X_train[0].midi_data\n",
    "track = sample.tracks[0]\n",
    "\n",
    "temp_msg = mido.MetaMessage('set_tempo', tempo=mido.bpm2tempo(120), time=0)\n",
    "\n",
    "for i in sample.tracks:\n",
    "    for j, msg in enumerate(i):\n",
    "        if msg.type == \"set_tempo\":\n",
    "            i[j] = mido.MetaMessage('set_tempo', tempo=mido.bpm2tempo(120), time=0)\n",
    "        # msg.copy(tempo=100000)\n",
    "        # print(dir(msg))\n",
    "        # if j == 0: break\n",
    "sample.save(\"test\")\n",
    "\n",
    "play_audio(mido.MidiFile(\"test\"), 5)\n",
    "# track.append(temp_msg)\n",
    "# play_audio(sample, 5)"
   ]
  },
  {
   "cell_type": "code",
   "execution_count": 17,
   "metadata": {},
   "outputs": [
    {
     "name": "stdout",
     "output_type": "stream",
     "text": [
      "After filter...\n"
     ]
    }
   ],
   "source": [
    "# import infmidi\n",
    "\n",
    "sample = X_train[0].midi_data\n",
    "new_sample = MidiFile()\n",
    "new_track = mido.MidiTrack()\n",
    "new_track.ticks_per_beat = sample.ticks_per_beat\n",
    "new_sample.tracks.append(new_track)\n",
    "# play_audio(sample, 5)\n",
    "# duration = 0\n",
    "tempo = get_tempo(sample)\n",
    "y = []\n",
    "x = []\n",
    "t = 0\n",
    "t_f = 0\n",
    "y_f = []\n",
    "x_f = []\n",
    "for track in sample.tracks:\n",
    "    for msg in track:\n",
    "        if t >= 10:\n",
    "            break\n",
    "        # print(msg)\n",
    "\n",
    "        # if duration >= mido.second2tick(5, tempo=tempo, ticks_per_beat=sample.ticks_per_beat):\n",
    "        #     break\n",
    "        # duration += msg.time\n",
    "        if msg.type in (\"note_on\"):\n",
    "            y.append(msg.note)\n",
    "            new_t = t + mido.tick2second(msg.time, ticks_per_beat=sample.ticks_per_beat, tempo=tempo)\n",
    "            x.append(new_t)\n",
    "            t = new_t\n",
    "        else:\n",
    "            t += mido.tick2second(msg.time, ticks_per_beat=sample.ticks_per_beat, tempo=tempo)\n",
    "\n",
    "        # new_msg = msg\n",
    "        if not msg.is_meta:\n",
    "            # if msg.is_cc():\n",
    "            #     continue\n",
    "            if msg.type == \"note_on\":\n",
    "                if msg.note == 38:\n",
    "                    new_msg = mido.Message(\"note_on\", \n",
    "                                           channel=9,\n",
    "                                           note=38,\n",
    "                                           velocity=64,\n",
    "                                           time=msg.time)\n",
    "                    new_track.append(new_msg)\n",
    "                    # pass\n",
    "                else:\n",
    "                    new_msg = mido.Message(\"note_off\", \n",
    "                                           channel=9,\n",
    "                                           note=38,\n",
    "                                           velocity=0,\n",
    "                                           time=msg.time)\n",
    "                    new_track.append(new_msg)\n",
    "            else:\n",
    "                new_track.append(msg)\n",
    "        else:\n",
    "            new_track.append(msg)\n",
    "\n",
    "        # if new_msg.type in (\"note_on\"):\n",
    "        #     y_f.append(new_msg.note)\n",
    "        #     new_t = t_f + mido.tick2second(new_msg.time, ticks_per_beat=sample.ticks_per_beat, tempo=tempo)\n",
    "        #     x_f.append(new_t)\n",
    "        #     t_f = new_t\n",
    "        # else:\n",
    "        #     t_f += mido.tick2second(new_msg.time, ticks_per_beat=sample.ticks_per_beat, tempo=tempo)\n",
    "            \n",
    "            \n",
    "                    \n",
    "print(\"After filter...\")\n",
    "# play_audio(new_sample, 5)"
   ]
  },
  {
   "cell_type": "code",
   "execution_count": 4,
   "metadata": {},
   "outputs": [
    {
     "data": {
      "text/plain": [
       "WindowsPath('c:/Users/mrmar/Downloads/Neural Networks/Project/NN_Drummer_Beat_Project/data/drummer1/session1/101_dance-disco_120_beat_4-4.mid')"
      ]
     },
     "execution_count": 4,
     "metadata": {},
     "output_type": "execute_result"
    }
   ],
   "source": [
    "X_train[0].midi_file_path"
   ]
  },
  {
   "cell_type": "code",
   "execution_count": 11,
   "metadata": {},
   "outputs": [
    {
     "data": {
      "text/plain": [
       "309.33125000000126"
      ]
     },
     "execution_count": 11,
     "metadata": {},
     "output_type": "execute_result"
    }
   ],
   "source": [
    "sample.length"
   ]
  },
  {
   "cell_type": "code",
   "execution_count": 18,
   "metadata": {},
   "outputs": [
    {
     "data": {
      "image/png": "[encoded data removed]",
      "text/plain": [
       "<Figure size 640x480 with 1 Axes>"
      ]
     },
     "metadata": {},
     "output_type": "display_data"
    },
    {
     "data": {
      "image/png": "[encoded data removed]",
      "text/plain": [
       "<Figure size 640x480 with 1 Axes>"
      ]
     },
     "metadata": {},
     "output_type": "display_data"
    }
   ],
   "source": [
    "import matplotlib.pyplot as plt\n",
    "import numpy as np\n",
    "\n",
    "plt.scatter(x, y, s=5, marker=\"s\")\n",
    "plt.hlines(38, 0, 5, ls=\"--\", color=\"red\", alpha=0.5)\n",
    "plt.show()\n",
    "plt.scatter(x_f, y_f, s=5, marker=\"s\")\n",
    "plt.hlines(38, 0, 5, ls=\"--\", color=\"red\", alpha=0.5)\n",
    "# hist, bins = np.histogram(y, bins)\n",
    "# plt.stairs(hist, bins)\n",
    "plt.show()\n",
    "\n",
    "# play_audio(sample, 5)\n",
    "play_audio(new_sample, 5)"
   ]
  },
  {
   "cell_type": "code",
   "execution_count": 19,
   "metadata": {},
   "outputs": [
    {
     "name": "stdout",
     "output_type": "stream",
     "text": [
      "note_on channel=9 note=38 velocity=64 time=16\n",
      "note_on channel=9 note=38 velocity=64 time=23\n",
      "note_on channel=9 note=38 velocity=64 time=33\n",
      "note_on channel=9 note=38 velocity=64 time=97\n",
      "note_on channel=9 note=38 velocity=64 time=113\n",
      "note_on channel=9 note=38 velocity=64 time=82\n",
      "note_on channel=9 note=38 velocity=64 time=2\n",
      "note_on channel=9 note=38 velocity=64 time=1\n",
      "note_on channel=9 note=38 velocity=64 time=22\n",
      "note_on channel=9 note=38 velocity=64 time=96\n",
      "note_on channel=9 note=38 velocity=64 time=148\n",
      "note_on channel=9 note=38 velocity=64 time=86\n",
      "note_on channel=9 note=38 velocity=64 time=10\n",
      "note_on channel=9 note=38 velocity=64 time=2\n",
      "note_on channel=9 note=38 velocity=64 time=13\n",
      "note_on channel=9 note=38 velocity=64 time=16\n",
      "note_on channel=9 note=38 velocity=64 time=3\n",
      "note_on channel=9 note=38 velocity=64 time=3\n",
      "note_on channel=9 note=38 velocity=64 time=11\n",
      "note_on channel=9 note=38 velocity=64 time=97\n",
      "note_on channel=9 note=38 velocity=64 time=47\n",
      "note_on channel=9 note=38 velocity=64 time=5\n",
      "note_on channel=9 note=38 velocity=64 time=6\n",
      "note_on channel=9 note=38 velocity=64 time=5\n",
      "note_on channel=9 note=38 velocity=64 time=38\n",
      "note_on channel=9 note=38 velocity=64 time=33\n",
      "note_on channel=9 note=38 velocity=64 time=0\n",
      "note_on channel=9 note=38 velocity=64 time=4\n",
      "note_on channel=9 note=38 velocity=64 time=13\n",
      "note_on channel=9 note=38 velocity=64 time=36\n",
      "note_on channel=9 note=38 velocity=64 time=47\n",
      "note_on channel=9 note=38 velocity=64 time=97\n",
      "note_on channel=9 note=38 velocity=64 time=36\n",
      "note_on channel=9 note=38 velocity=64 time=96\n",
      "note_on channel=9 note=38 velocity=64 time=4\n",
      "note_on channel=9 note=38 velocity=64 time=4\n",
      "note_on channel=9 note=38 velocity=64 time=23\n",
      "note_on channel=9 note=38 velocity=64 time=97\n",
      "note_on channel=9 note=38 velocity=64 time=7\n",
      "note_on channel=9 note=38 velocity=64 time=97\n",
      "note_on channel=9 note=38 velocity=64 time=25\n",
      "note_on channel=9 note=38 velocity=64 time=97\n",
      "note_on channel=9 note=38 velocity=64 time=27\n",
      "note_on channel=9 note=38 velocity=64 time=97\n",
      "note_on channel=9 note=38 velocity=64 time=43\n",
      "note_on channel=9 note=38 velocity=64 time=22\n",
      "note_on channel=9 note=38 velocity=64 time=29\n",
      "note_on channel=9 note=38 velocity=64 time=97\n",
      "note_on channel=9 note=38 velocity=64 time=117\n",
      "note_on channel=9 note=38 velocity=64 time=86\n",
      "note_on channel=9 note=38 velocity=64 time=38\n",
      "note_on channel=9 note=38 velocity=64 time=97\n"
     ]
    }
   ],
   "source": [
    "for track in new_sample.tracks:\n",
    "    for msg in track:\n",
    "        if msg.type == \"note_on\":\n",
    "            print(msg)"
   ]
  },
  {
   "cell_type": "code",
   "execution_count": 6,
   "metadata": {},
   "outputs": [
    {
     "name": "stdout",
     "output_type": "stream",
     "text": [
      "[MidiTrack([note_on channel=9 note=38 velocity=64 time=1000])]\n"
     ]
    }
   ],
   "source": [
    "test_audio = MidiFile()\n",
    "test_track = mido.MidiTrack()\n",
    "test_audio.tracks.append(test_track)\n",
    "# for i in range(30):\n",
    "test_track.append(mido.Message(\"note_on\", time=1000, note=38, channel=9))\n",
    "print(test_audio.tracks)\n",
    "test_audio.save(\"test.mid\")\n",
    "play_audio(MidiFile(\"test.mid\"))"
   ]
  },
  {
   "cell_type": "code",
   "execution_count": 5,
   "metadata": {},
   "outputs": [
    {
     "name": "stdout",
     "output_type": "stream",
     "text": [
      "[[1 0]\n",
      " [0 1]]\n",
      "[ 0 42]\n",
      "[2465931498 3679230171] [255383827 267815257]\n"
     ]
    }
   ],
   "source": [
    "import jax.numpy as jnp\n",
    "\n",
    "# arange\n",
    "# linspace\n",
    "# :list\n",
    "# ones\n",
    "# zeros\n",
    "# identity\n",
    "\n",
    "test = jnp.identity(2, jnp.int16)\n",
    "print(test)\n",
    "\n",
    "seed = 42\n",
    "key = jax.random.PRNGKey(seed)\n",
    "print(key)\n",
    "jax.random.uniform(key)\n",
    "key, subkey = jax.random.split(key)\n",
    "print(key, subkey)"
   ]
  }
 ],
 "metadata": {
  "kernelspec": {
   "display_name": "Python 3",
   "language": "python",
   "name": "python3"
  },
  "language_info": {
   "codemirror_mode": {
    "name": "ipython",
    "version": 3
   },
   "file_extension": ".py",
   "mimetype": "text/x-python",
   "name": "python",
   "nbconvert_exporter": "python",
   "pygments_lexer": "ipython3",
   "version": "3.11.1"
  }
 },
 "nbformat": 4,
 "nbformat_minor": 2
}
