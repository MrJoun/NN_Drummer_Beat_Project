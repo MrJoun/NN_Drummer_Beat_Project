{
 "cells": [
  {
   "cell_type": "markdown",
   "metadata": {},
   "source": [
    "### Generating A Drum Rhythm with NN"
   ]
  },
  {
   "cell_type": "markdown",
   "metadata": {},
   "source": [
    "#### ToDo's\n",
    "\n",
    "**17.05.2024** (Friday)\n",
    "- Connnect to VS code! ✅\n",
    "- Choose framework - Jax / PyTorch / Keras (not recommended for its simplicity) ✅\n",
    "- Pick dataset ✅\n",
    "\n",
    "    > Groove MIDI Dataset [Link](https://magenta.tensorflow.org/datasets/groove#download) + [Paper](https://arxiv.org/pdf/1905.06118)\n",
    "\n",
    "- Pick model - RNN (+ MLP?) ✅\n",
    "- Study the dataset and think of pre-processing it\n",
    "- Study framework\n",
    "\n",
    "\n",
    "**21.05.2024** (Tuesday)\n",
    "- Define problem\n",
    "- Define goal\n",
    "- Start with setting up training model template\n",
    "\n",
    "\n",
    "**23.05.2024** (Thursday)\n",
    "- We code a model that acts as a generator: after running the code it should produce a simple beat pattern\n",
    "- Keep things as simple as possible: use only one sounds for now\n",
    "- Preprocessing and chosing the right format/encdoing is going to be the hardest part \n",
    "    - Time series: discretize, align all samples so they start on the same bar\n",
    "    - Filter out different sounds (keep only one drum sounds)\n",
    "    - 4/4 bar but leave space (32 time slices) for more complex pattern\n",
    "    - Keep same duration for Feed-Forward Network or not for RNN\n",
    " - To keep it simple, maybe generate own data with the desired format\n",
    " - Regular meetings!!!\n",
    " - Keras is also fine\n",
    " - Understand the dataset really well before setting up the network\n",
    "\n",
    "\n",
    " **27.05.2024** (Monday)\n",
    " - Dateset?\n",
    " - Framework division\n",
    " - Data format\n",
    " - Feed-Forward or RNN\n",
    " - Regular Meetings\n"
   ]
  },
  {
   "cell_type": "markdown",
   "metadata": {},
   "source": [
    "#### Pre-processing \n",
    "\n",
    "**Resources:**\n",
    "\n",
    "> [Short IBM Article: Data preprocessing in detail](https://developer.ibm.com/articles/data-preprocessing-in-detail/)  \n",
    "> \n",
    "> [Medium Detailed Article with Example: Data pre-processing: A step-by-step guide](https://towardsdatascience.com/data-pre-processing-a-step-by-step-guide-541b083912b5)\n",
    ">\n",
    "> [Easy Kaggle Article: Machine Learning Episode #1: Data Pre-processing steps using Python](https://www.kaggle.com/discussions/getting-started/151612)\n",
    ">\n",
    "> \n",
    "\n",
    "\n",
    "\n"
   ]
  },
  {
   "cell_type": "markdown",
   "metadata": {},
   "source": [
    "#### Frameworks\n",
    "\n",
    "**JAX**\n",
    "\n",
    "> [Extensive Article with Example for RNN, MLP, and CNN: Getting started with JAX (MLPs, CNNs & RNNs)](https://roberttlange.com/posts/2020/03/blog-post-10/)\n"
   ]
  }
 ],
 "metadata": {
  "kernelspec": {
   "display_name": "Python 3",
   "language": "python",
   "name": "python3"
  },
  "language_info": {
   "name": "python",
   "version": "3.12.0"
  }
 },
 "nbformat": 4,
 "nbformat_minor": 2
}
