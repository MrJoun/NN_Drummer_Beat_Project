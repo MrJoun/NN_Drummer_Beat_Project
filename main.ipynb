{
 "cells": [
  {
   "cell_type": "markdown",
   "metadata": {},
   "source": [
    "### Generating A Drum Rhythm with NN"
   ]
  },
  {
   "cell_type": "markdown",
   "metadata": {},
   "source": [
    "#### ToDo's\n",
    "\n",
    "**17.05.2024** (Friday)\n",
    "- Connnect to VS code! ✅\n",
    "- Choose framework - Jax / PyTorch / Keras (not recommended for its simplicity) ✅\n",
    "- Pick dataset ✅\n",
    "\n",
    "    > Groove MIDI Dataset [Link](https://magenta.tensorflow.org/datasets/groove#download) + [Paper](https://arxiv.org/pdf/1905.06118)\n",
    "\n",
    "- Pick model - RNN (+ MLP?) ✅\n",
    "- Study the dataset and think of pre-processing it\n",
    "- Study framework\n",
    "\n",
    "\n",
    "**21.05.2024** (Tuesday)\n",
    "- Define problem\n",
    "- Define goal\n",
    "- Start with setting up training model template\n",
    "\n",
    "\n",
    "**23.05.2024** (Thursday)\n",
    "- We code a model that acts as a generator: after running the code it should produce a simple beat pattern\n",
    "- Keep things as simple as possible: use only one sounds for now\n",
    "- Preprocessing and chosing the right format/encdoing is going to be the hardest part \n",
    "    - Time series: discretize, align all samples so they start on the same bar\n",
    "    - Filter out different sounds (keep only one drum sounds)\n",
    "    - 4/4 bar but leave space (32 time slices) for more complex pattern\n",
    "    - Keep same duration for Feed-Forward Network or not for RNN\n",
    " - To keep it simple, maybe generate own data with the desired format\n",
    " - Regular meetings!!!\n",
    " - Keras is also fine\n",
    " - Understand the dataset really well before setting up the network\n",
    " - RNN not recommended if first time\n",
    " - \n",
    "\n",
    "\n",
    " **27.05.2024** (Monday)\n",
    " - Dateset?\n",
    " - Framework division\n",
    " - Data format\n",
    " - Feed-Forward or RNN\n",
    " - Regular Meetings\n"
   ]
  },
  {
   "cell_type": "markdown",
   "metadata": {},
   "source": [
    "#### Pre-processing \n",
    "\n",
    "**Resources:**\n",
    "\n",
    "> [Short IBM Article: Data preprocessing in detail](https://developer.ibm.com/articles/data-preprocessing-in-detail/)  \n",
    "> \n",
    "> [Medium Detailed Article with Example: Data pre-processing: A step-by-step guide](https://towardsdatascience.com/data-pre-processing-a-step-by-step-guide-541b083912b5)\n",
    ">\n",
    "> [Easy Kaggle Article: Machine Learning Episode #1: Data Pre-processing steps using Python](https://www.kaggle.com/discussions/getting-started/151612)\n",
    ">\n",
    "> \n",
    "\n",
    "\n",
    "\n"
   ]
  },
  {
   "cell_type": "markdown",
   "metadata": {},
   "source": [
    "#### Frameworks\n",
    "\n",
    "**JAX**\n",
    "\n",
    "> [Extensive Article with Example for RNN, MLP, and CNN: Getting started with JAX (MLPs, CNNs & RNNs)](https://roberttlange.com/posts/2020/03/blog-post-10/)\n"
   ]
  },
  {
   "cell_type": "markdown",
   "metadata": {},
   "source": [
    "### Main Code"
   ]
  },
  {
   "cell_type": "code",
   "execution_count": null,
   "metadata": {},
   "outputs": [],
   "source": [
    "class DataPoint:\n",
    "    def __init__(self,\n",
    "                 midi_data,\n",
    "                 features,\n",
    "                 audio_file_path,\n",
    "                 midi_file_path,\n",
    "                 purpose) -> None:\n",
    "        self.midi_data = midi_data\n",
    "        self.features = features\n",
    "        self.audio_file_path = audio_file_path\n",
    "        self.midi_file_path = midi_file_path\n",
    "        self.purpose = purpose\n",
    "\n",
    "feature_names = [\"style\", \"bpm\", \"beat_type\", \"time_signature\", \"duration\"]\n",
    "feature_to_column_idx = {\n",
    "    \"session\" : 0,\n",
    "    \"drummer\" : 1,\n",
    "    \"id\" : 2,\n",
    "    \"style\" : 3,\n",
    "    \"bpm\" : 4,\n",
    "    \"beat_type\" : 5,\n",
    "    \"time_signature\" : 6,\n",
    "    \"midi_filename\" : 7,\n",
    "    \"audio_filename\" : 8,\n",
    "    \"duration\" : 9,\n",
    "    \"split\" : 10\n",
    "}\n",
    "\n",
    "from pretty_midi import PrettyMIDI\n",
    "from pathlib import Path\n",
    "\n",
    "\n",
    "# Init for data storage\n",
    "X = []\n",
    "\n",
    "# Define filename and its path\n",
    "data_filename = \"info.csv\"\n",
    "data_folder_path = Path().cwd() / \"data\"\n",
    "data_path = data_folder_path / data_filename\n",
    "\n",
    "# Open file with data information\n",
    "with data_path.open() as file:\n",
    "    columns = file.readline()\n",
    "    train_idx = 0\n",
    "    test_idx = 0\n",
    "    validation_idx = 0\n",
    "    for i, line in enumerate(file):\n",
    "        # Strip line of new line and split into list\n",
    "        line = line.strip().split(\",\")\n",
    "\n",
    "        bpm = line[4]\n",
    "        time_signature = line[6]\n",
    "        if time_signature != \"4-4\":\n",
    "            continue\n",
    "\n",
    "        # Attach absolute path to midi & audio files\n",
    "        midi_data_path = data_folder_path / line[7]\n",
    "        audio_data_path = data_folder_path / line[8]\n",
    "\n",
    "        # Create custom data point with all info\n",
    "        midi_data = PrettyMIDI(str(midi_data_path))\n",
    "\n",
    "        features = {i: line[feature_to_column_idx[i]] for i in feature_names}\n",
    "        data_point = DataPoint(\n",
    "            midi_data=midi_data,\n",
    "            audio_file_path=audio_data_path,\n",
    "            midi_file_path=midi_data_path,\n",
    "            features=features,\n",
    "            purpose=line[feature_to_column_idx[\"split\"]]\n",
    "        )\n",
    "\n",
    "        X.append(data_point)\n",
    "        # print(\"Next sample\\n\")\n",
    "        # if i == 10: print(\"Breaking\"); break"
   ]
  },
  {
   "cell_type": "code",
   "execution_count": null,
   "metadata": {},
   "outputs": [],
   "source": [
    "from pretty_midi import PrettyMIDI\n",
    "import numpy as np\n",
    "from pre_processing_tools import filter_to_kick_drum\n",
    "from pre_processing_tools import align_all_notes_to_origin\n",
    "from pre_processing_tools import is_first_note_aligned\n",
    "from pre_processing_tools import make_all_notes_same_duartion\n",
    "from pre_processing_tools import make_all_notes_same_volume\n",
    "from pre_processing_tools import make_instrument_not_drum\n",
    "from pre_processing_tools import slice_midi_to_batches\n",
    "from pre_processing_tools import midi_to_bit_vector\n",
    "\n",
    "\n",
    "# Initiate data structures\n",
    "X_train = []\n",
    "X_test = []\n",
    "X_validation = []\n",
    "# X_train = [0] * 897\n",
    "# X_test = [0] * 129\n",
    "# X_validation = [0] * 124\n",
    "# y_train = np.zeros(())\n",
    "# y_test = np.zeros(())\n",
    "\n",
    "pipeline = [\n",
    "    filter_to_kick_drum,\n",
    "    make_all_notes_same_duartion,\n",
    "    make_all_notes_same_volume,\n",
    "    make_instrument_not_drum\n",
    "]\n",
    "\n",
    "for x in X:\n",
    "    x_midi = PrettyMIDI(str(x.midi_file_path))\n",
    "    for process in pipeline:\n",
    "        try:\n",
    "            x_midi = process(x_midi)\n",
    "        except Exception as er:\n",
    "            break\n",
    "    else:\n",
    "        try:\n",
    "            if not is_first_note_aligned(x_midi):\n",
    "                x_midi = align_all_notes_to_origin(x_midi)    \n",
    "        except:\n",
    "            continue\n",
    "        batches = slice_midi_to_batches(x_midi)\n",
    "        # x.midi_data = x_midi\n",
    "        if len(batches) == 1:\n",
    "            bit_vectors = [midi_to_bit_vector(x_midi)]\n",
    "        else:\n",
    "            bit_vectors = []\n",
    "            for batch in batches:\n",
    "                print()\n",
    "                print(batch)\n",
    "                # print(*batch.instruments[0].notes, sep='\\n')\n",
    "                if not is_first_note_aligned(batch):\n",
    "                    batch = align_all_notes_to_origin(batch)\n",
    "                bit_vect = midi_to_bit_vector(batch)\n",
    "                bit_vectors.append(bit_vect)\n",
    "        if x.purpose == \"test\":\n",
    "            X_test.extend(bit_vectors)\n",
    "        elif x.purpose == \"train\":\n",
    "            X_train.extend(bit_vectors)\n",
    "        elif x.purpose == \"validation\":\n",
    "            X_validation.extend(bit_vectors)\n",
    "        else:\n",
    "            print(\"Data not categorized!\")\n",
    "    continue\n",
    "\n",
    "print(len(X_train))\n",
    "print(len(X_test))\n",
    "print(len(X_validation))"
   ]
  },
  {
   "cell_type": "code",
   "execution_count": 15,
   "metadata": {},
   "outputs": [
    {
     "name": "stdout",
     "output_type": "stream",
     "text": [
      "12.270114942528735\n",
      "87.72988505747126\n"
     ]
    }
   ],
   "source": [
    "ratio_test = len(X_test) / (len(X_train)+len(X_test))\n",
    "print(ratio_test*100)\n",
    "ratio_train = len(X_train) / (len(X_train)+len(X_test))\n",
    "print(ratio_train*100)\n",
    "\n"
   ]
  },
  {
   "cell_type": "code",
   "execution_count": null,
   "metadata": {},
   "outputs": [],
   "source": [
    "len(X_train[15])"
   ]
  },
  {
   "cell_type": "code",
   "execution_count": null,
   "metadata": {},
   "outputs": [],
   "source": [
    "len(X_train)"
   ]
  },
  {
   "cell_type": "code",
   "execution_count": null,
   "metadata": {},
   "outputs": [],
   "source": [
    "len(X_test)"
   ]
  },
  {
   "cell_type": "code",
   "execution_count": null,
   "metadata": {},
   "outputs": [],
   "source": [
    "len(X_validation)"
   ]
  }
 ],
 "metadata": {
  "kernelspec": {
   "display_name": "Python 3",
   "language": "python",
   "name": "python3"
  },
  "language_info": {
   "codemirror_mode": {
    "name": "ipython",
    "version": 3
   },
   "file_extension": ".py",
   "mimetype": "text/x-python",
   "name": "python",
   "nbconvert_exporter": "python",
   "pygments_lexer": "ipython3",
   "version": "3.11.1"
  }
 },
 "nbformat": 4,
 "nbformat_minor": 2
}
