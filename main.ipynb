{
 "cells": [
  {
   "cell_type": "markdown",
   "metadata": {},
   "source": [
    "### Generating A Drum Rhythm with NN"
   ]
  },
  {
   "cell_type": "markdown",
   "metadata": {},
   "source": [
    "#### ToDo's\n",
    "\n",
    "**17.05.2024** (Friday)\n",
    "- Connnect to VS code! ✅\n",
    "- Choose framework - Jax / PyTorch / Keras (not recommended for its simplicity) ✅\n",
    "- Pick dataset ✅\n",
    "\n",
    "    > Groove MIDI Dataset [Link](https://magenta.tensorflow.org/datasets/groove#download) + [Paper](https://arxiv.org/pdf/1905.06118)\n",
    "\n",
    "- Pick model - RNN (+ MLP?) ✅\n",
    "- Study the dataset and think of pre-processing it\n",
    "- Study framework\n",
    "\n",
    "\n",
    "**21.05.2024** (Tuesday)\n",
    "- Define problem\n",
    "- Define goal\n",
    "- Start with setting up training model template"
   ]
  },
  {
   "cell_type": "markdown",
   "metadata": {},
   "source": [
    "#### Pre-processing \n",
    "\n",
    "**Resources:**\n",
    "\n",
    "> [Short IBM Article: Data preprocessing in detail](https://developer.ibm.com/articles/data-preprocessing-in-detail/)  \n",
    "> \n",
    "> [Medium Detailed Article with Example: Data pre-processing: A step-by-step guide](https://towardsdatascience.com/data-pre-processing-a-step-by-step-guide-541b083912b5)\n",
    ">\n",
    "> [Easy Kaggle Article: Machine Learning Episode #1: Data Pre-processing steps using Python](https://www.kaggle.com/discussions/getting-started/151612)\n",
    ">\n",
    "> \n",
    "\n",
    "\n",
    "\n"
   ]
  },
  {
   "cell_type": "markdown",
   "metadata": {},
   "source": [
    "#### Frameworks\n",
    "\n",
    "**JAX**\n",
    "\n",
    "> [Extensive Article with Example for RNN, MLP, and CNN: Getting started with JAX (MLPs, CNNs & RNNs)](https://roberttlange.com/posts/2020/03/blog-post-10/)\n"
   ]
  }
 ],
 "metadata": {
  "kernelspec": {
   "display_name": "Python 3",
   "language": "python",
   "name": "python3"
  },
  "language_info": {
   "name": "python",
   "version": "3.12.0"
  }
 },
 "nbformat": 4,
 "nbformat_minor": 2
}
