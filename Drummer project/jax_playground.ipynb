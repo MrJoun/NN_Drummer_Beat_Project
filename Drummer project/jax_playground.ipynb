{
 "cells": [
  {
   "cell_type": "code",
   "execution_count": null,
   "metadata": {},
   "outputs": [],
   "source": [
    "# Creating a key for reproducibility\n",
    "key = jax.random.PRNGKey(1)"
   ]
  },
  {
   "cell_type": "markdown",
   "metadata": {},
   "source": [
    "<https://www.tensorflow.org/datasets/api_docs/python/tfds/load>"
   ]
  },
  {
   "cell_type": "code",
   "execution_count": null,
   "metadata": {},
   "outputs": [],
   "source": [
    "# Build your input pipeline\n",
    "dataset = dataset.shuffle(1024).batch(32).prefetch(\n",
    "    tf.data.experimental.AUTOTUNE)\n",
    "for features in dataset.take(1):\n",
    "  # Access the features you are interested in\n",
    "  midi, genre = features[\"midi\"], features[\"style\"][\"primary\"]"
   ]
  },
  {
   "cell_type": "code",
   "execution_count": null,
   "metadata": {},
   "outputs": [],
   "source": [
    "import numpy as np\n",
    "# import tensorflow as tf\n",
    "from pathlib import Path\n",
    "from mido import MidiFile\n",
    "import mido\n",
    "\n",
    "seed = 42\n",
    "# tf.random.set_seed(seed)\n",
    "np.random.seed(seed)\n",
    "\n",
    "\n",
    "\n",
    "def play_audio(midi_data: MidiFile, duration: float=None) -> None:\n",
    "        \n",
    "    # Create output port for playing samples\n",
    "    with mido.open_output(autoreset=True) as outport: \n",
    "        if isinstance(duration, (float, int)):\n",
    "            for msg in midi_data.play():\n",
    "                if duration <= 0: break\n",
    "                outport.send(msg)\n",
    "                duration -= msg.time\n",
    "        else:\n",
    "            for msg in midi_data.play():\n",
    "                outport.send(msg)\n",
    "\n",
    "    if not outport.closed:\n",
    "        print(\"Closing port...\")\n",
    "        outport.close()\n",
    "\n",
    "def get_tempo(mid):\n",
    "    for track in mid.tracks:\n",
    "        for msg in track:\n",
    "            if msg.type == 'set_tempo':\n",
    "                return msg.tempo\n",
    "    return False  # Default tempo if not found\n"
   ]
  },
  {
   "cell_type": "code",
   "execution_count": null,
   "metadata": {},
   "outputs": [],
   "source": [
    "import pretty_midi\n",
    "\n",
    "\n",
    "# Initiate data structures\n",
    "X_train = []\n",
    "X_test = []\n",
    "X_validation = []\n",
    "# X_train = [0] * 897\n",
    "# X_test = [0] * 129\n",
    "# X_validation = [0] * 124\n",
    "# y_train = np.zeros(())\n",
    "# y_test = np.zeros(())\n",
    "\n",
    "# Define filename and its path\n",
    "data_filename = \"info.csv\"\n",
    "data_folder_path = Path().cwd() / \"data\"\n",
    "data_path = data_folder_path / data_filename\n",
    "\n",
    "# bpm_stats = {}\n",
    "\n",
    "# Open file with data information\n",
    "with data_path.open() as file:\n",
    "    columns = file.readline()\n",
    "    train_idx = 0\n",
    "    test_idx = 0\n",
    "    validation_idx = 0\n",
    "    for i, line in enumerate(file):\n",
    "        # Strip line of new line and split into list\n",
    "        line = line.strip().split(\",\")\n",
    "\n",
    "        bpm = line[4]\n",
    "        time_signature = line[6]\n",
    "        # if bpm in bpm_stats.keys():\n",
    "        #     bpm_stats[bpm] += 1\n",
    "        # else:\n",
    "        #     bpm_stats[bpm] = 1\n",
    "        if time_signature != \"4-4\":\n",
    "            continue\n",
    "\n",
    "        # Check\n",
    "        # print(line)\n",
    "\n",
    "        # Attach absolute path to midi & audio files\n",
    "        midi_data_path = data_folder_path / line[7]\n",
    "        audio_data_path = data_folder_path / line[8]\n",
    "\n",
    "        # Create custom data point with all info\n",
    "        midi_data = MidiFile(midi_data_path)\n",
    "\n",
    "\n",
    "        features = {i: line[feature_to_column_idx[i]] for i in feature_names}\n",
    "        data_point = DataPoint(\n",
    "            midi_data=midi_data,\n",
    "            audio_file_path=audio_data_path,\n",
    "            midi_file_path=midi_data_path,\n",
    "            features=features,\n",
    "            purpose=line[feature_to_column_idx[\"split\"]]\n",
    "        )\n",
    "\n",
    "        # Play the sample\n",
    "        # play_audio(midi_data, 3)\n",
    "\n",
    "        if data_point.purpose == \"train\":\n",
    "            # X_train[train_idx] = data_point\n",
    "            # train_idx += 1\n",
    "            X_train.append(data_point)\n",
    "        elif data_point.purpose == \"test\":\n",
    "            # X_test[test_idx] = data_point\n",
    "            # test_idx += 1\n",
    "            X_test.append(data_point)\n",
    "        elif data_point.purpose == \"validation\":\n",
    "            # X_validation[validation_idx] = data_point\n",
    "            # validation_idx += 1\n",
    "            X_validation.append(data_point)\n",
    "\n",
    "        print(len(X_train), len(X_test), len(X_validation))\n",
    "\n",
    "        # Load the MIDI file\n",
    "        midi_data = pretty_midi.PrettyMIDI(str(midi_data_path))\n",
    "        # for inst in midi_data.instruments:\n",
    "            # print(inst)\n",
    "        print(midi_data.instruments)\n",
    "        # print(line.strip().split(\",\"))\n",
    "        print(\"Next sample\\n\")\n",
    "        if i == 10: print(\"Breaking\"); break\n",
    "\n",
    "print(len(X_train))\n",
    "print(len(X_test))\n",
    "print(len(X_validation))"
   ]
  },
  {
   "cell_type": "code",
   "execution_count": 4,
   "metadata": {},
   "outputs": [
    {
     "data": {
      "text/plain": [
       "WindowsPath('c:/Users/mrmar/Downloads/Neural Networks/Project/NN_Drummer_Beat_Project/data/drummer1/session1/101_dance-disco_120_beat_4-4.mid')"
      ]
     },
     "execution_count": 4,
     "metadata": {},
     "output_type": "execute_result"
    }
   ],
   "source": [
    "X_train[0].midi_file_path"
   ]
  },
  {
   "cell_type": "code",
   "execution_count": 5,
   "metadata": {},
   "outputs": [
    {
     "name": "stdout",
     "output_type": "stream",
     "text": [
      "[[1 0]\n",
      " [0 1]]\n",
      "[ 0 42]\n",
      "[2465931498 3679230171] [255383827 267815257]\n"
     ]
    }
   ],
   "source": [
    "import jax.numpy as jnp\n",
    "\n",
    "# arange\n",
    "# linspace\n",
    "# :list\n",
    "# ones\n",
    "# zeros\n",
    "# identity\n",
    "\n",
    "test = jnp.identity(2, jnp.int16)\n",
    "print(test)\n",
    "\n",
    "seed = 42\n",
    "key = jax.random.PRNGKey(seed)\n",
    "print(key)\n",
    "jax.random.uniform(key)\n",
    "key, subkey = jax.random.split(key)\n",
    "print(key, subkey)"
   ]
  },
  {
   "cell_type": "code",
   "execution_count": 18,
   "metadata": {},
   "outputs": [
    {
     "name": "stdout",
     "output_type": "stream",
     "text": [
      "-> Filtering everything but kick... DONE\n"
     ]
    },
    {
     "data": {
      "text/plain": [
       "[]"
      ]
     },
     "execution_count": 18,
     "metadata": {},
     "output_type": "execute_result"
    }
   ],
   "source": [
    "testing = PrettyMIDI(str(X_train[1].midi_file_path))\n",
    "testing = filter_to_kick_drum(testing)\n",
    "testing.instruments[0].notes\n",
    "\n"
   ]
  }
 ],
 "metadata": {
  "kernelspec": {
   "display_name": "Python 3",
   "language": "python",
   "name": "python3"
  },
  "language_info": {
   "codemirror_mode": {
    "name": "ipython",
    "version": 3
   },
   "file_extension": ".py",
   "mimetype": "text/x-python",
   "name": "python",
   "nbconvert_exporter": "python",
   "pygments_lexer": "ipython3",
   "version": "3.11.1"
  }
 },
 "nbformat": 4,
 "nbformat_minor": 2
}
